{
 "cells": [
  {
   "cell_type": "markdown",
   "id": "b4f04573",
   "metadata": {},
   "source": [
    "# Q1. What is the purpose of Python&#39;s OOP?"
   ]
  },
  {
   "cell_type": "code",
   "execution_count": null,
   "id": "301b3fc6",
   "metadata": {},
   "outputs": [],
   "source": [
    "OOP is a programming paradigm that uses objects and classes in programming.\n",
    "It aims to implement real-world entities like inheritance, polymorphisms, encapsulation, etc. in the programming."
   ]
  },
  {
   "cell_type": "markdown",
   "id": "3e791af2",
   "metadata": {},
   "source": [
    "# Q2. Where does an inheritance search look for an attribute?"
   ]
  },
  {
   "cell_type": "code",
   "execution_count": null,
   "id": "70483990",
   "metadata": {},
   "outputs": [],
   "source": [
    "An inheritance search looks for an attribute first in the instance object, then in the class the instance was created from, then in all higher superclasses, progressing from left to right"
   ]
  },
  {
   "cell_type": "markdown",
   "id": "a7f2557e",
   "metadata": {},
   "source": [
    "# Q3. How do you distinguish between a class object and an instance object?"
   ]
  },
  {
   "cell_type": "code",
   "execution_count": null,
   "id": "00ebf3ce",
   "metadata": {},
   "outputs": [],
   "source": [
    "Class is a template for creating objects whereas object is an instance of class\n",
    "Seperate memory is allocated for each object whenever an object is created. but for a class this doesnot happens.\n",
    "A Class is created once. Many objects are created using a class.\n",
    "As Classes have no allocated memory. they can't be manipulated. but objects can be manipulated."
   ]
  },
  {
   "cell_type": "markdown",
   "id": "44d3b64c",
   "metadata": {},
   "source": [
    "# Q4. What makes the first argument in a class’s method function special?"
   ]
  },
  {
   "cell_type": "code",
   "execution_count": null,
   "id": "0eebca04",
   "metadata": {},
   "outputs": [],
   "source": [
    "self is the first argument for instance methods, which refers to the object itself"
   ]
  },
  {
   "cell_type": "markdown",
   "id": "7f5d7386",
   "metadata": {},
   "source": [
    "# Q5. What is the purpose of the __init__ method?"
   ]
  },
  {
   "cell_type": "code",
   "execution_count": null,
   "id": "74cca166",
   "metadata": {},
   "outputs": [],
   "source": [
    "__init__ is a reseved method in python classes. It serves the role of a constructor in object oriented terminology. \n",
    "This method is called when an object is created from a class and it allows the class to initialize the attributes of the class."
   ]
  },
  {
   "cell_type": "markdown",
   "id": "73e8c50a",
   "metadata": {},
   "source": [
    "# Q6. What is the process for creating a class instance?"
   ]
  },
  {
   "cell_type": "code",
   "execution_count": null,
   "id": "4a4e9cdd",
   "metadata": {},
   "outputs": [],
   "source": [
    "To create a class instance, we need to call the class by its name and pass the arguments to the class, which its init method accepts\n",
    "e.r - obj1 = className(attibutes value)"
   ]
  },
  {
   "cell_type": "markdown",
   "id": "adb7b91e",
   "metadata": {},
   "source": [
    "# Q7. What is the process for creating a class?"
   ]
  },
  {
   "cell_type": "code",
   "execution_count": null,
   "id": "9db84abb",
   "metadata": {},
   "outputs": [],
   "source": [
    "class keyword is used to created a class in python. "
   ]
  },
  {
   "cell_type": "markdown",
   "id": "cf3636e1",
   "metadata": {},
   "source": [
    "# Q8. How would you define the superclasses of a class?"
   ]
  },
  {
   "cell_type": "code",
   "execution_count": null,
   "id": "fc570819",
   "metadata": {},
   "outputs": [],
   "source": [
    "Superclass class is given as a arugment to the child class\n",
    "e.g - class Child(Parent):"
   ]
  }
 ],
 "metadata": {
  "kernelspec": {
   "display_name": "Python 3 (ipykernel)",
   "language": "python",
   "name": "python3"
  },
  "language_info": {
   "codemirror_mode": {
    "name": "ipython",
    "version": 3
   },
   "file_extension": ".py",
   "mimetype": "text/x-python",
   "name": "python",
   "nbconvert_exporter": "python",
   "pygments_lexer": "ipython3",
   "version": "3.9.12"
  }
 },
 "nbformat": 4,
 "nbformat_minor": 5
}
