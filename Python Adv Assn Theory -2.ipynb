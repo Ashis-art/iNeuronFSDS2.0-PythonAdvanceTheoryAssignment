{
 "cells": [
  {
   "cell_type": "markdown",
   "id": "24faca8c",
   "metadata": {},
   "source": [
    "# Q1. What is the relationship between classes and modules?"
   ]
  },
  {
   "cell_type": "code",
   "execution_count": null,
   "id": "1afb5124",
   "metadata": {},
   "outputs": [],
   "source": [
    "Modules are files present inside a package, whereas a class is used to encapsulate data and functions together inside the same unit."
   ]
  },
  {
   "cell_type": "markdown",
   "id": "47ecd444",
   "metadata": {},
   "source": [
    "# Q2. How do you make instances and classes?"
   ]
  },
  {
   "cell_type": "code",
   "execution_count": null,
   "id": "be163d8d",
   "metadata": {},
   "outputs": [],
   "source": [
    "TO create a class instance we need to call a class by its name and pass the arguments which its __init__ method accepts.\n",
    "\n",
    "Example: obj = Class('attributer1',attribute2)\n",
    "\n",
    "Whereas for creating a class, we use the Class keyword. Class keyword is followed by classname and semicolon.\n",
    "\n",
    "Example: \n",
    "class ClassName: \n",
    "    def __init__(self, a,b): \n",
    "        self.a = a \n",
    "        self.b = b"
   ]
  },
  {
   "cell_type": "markdown",
   "id": "232ed149",
   "metadata": {},
   "source": [
    "# Q3. Where and how should be class attributes created?"
   ]
  },
  {
   "cell_type": "code",
   "execution_count": null,
   "id": "3852bc6b",
   "metadata": {},
   "outputs": [],
   "source": [
    "Class attributes or Class level Attributes belong to the class itself, these attributes will be shared by all the instances of the class. \n",
    "Hence these attributes are usually created/defined in the top of class definiation outside all methods.\n",
    "#Example:-\n",
    "    class ClassName:\n",
    "    c = \"ineuron\" #this is class lebel attribute\n",
    "    def __init__(self, a,b): \n",
    "        self.a = a \n",
    "        self.b = b"
   ]
  },
  {
   "cell_type": "markdown",
   "id": "f54bb7d6",
   "metadata": {},
   "source": [
    "# Q4. Where and how are instance attributes created?"
   ]
  },
  {
   "cell_type": "code",
   "execution_count": null,
   "id": "397ddf62",
   "metadata": {},
   "outputs": [],
   "source": [
    "Instances attributes are passed to the class when an object of the class is created. Unlike class attributes, instance \n",
    "attributes are not shared by all objects of the classs. instead each object maintains its own copy of instance attributes at \n",
    "object level. whereas incase of class attributes all instances of class refer to a single copy. Usually instance attributes are \n",
    "defined within the __init__ method of class\n",
    "#Example:-\n",
    "    class ClassName:\n",
    "    c = \"ineuron\" #this is class lebel attribute\n",
    "    def __init__(self, a,b): \n",
    "        self.a = a #instance variable\n",
    "        self.b = b #instance variable\n",
    "    ins1 = ClassName('a','b') #instance of class with instance variables "
   ]
  },
  {
   "cell_type": "markdown",
   "id": "f54616b8",
   "metadata": {},
   "source": [
    "# Q5. What does the term &quot;self&quot; in a Python class mean?"
   ]
  },
  {
   "cell_type": "code",
   "execution_count": null,
   "id": "70df0de2",
   "metadata": {},
   "outputs": [],
   "source": [
    "self represents the instance of the class. By using the “self” we can access the attributes and methods of the class in python."
   ]
  },
  {
   "cell_type": "markdown",
   "id": "9d88d600",
   "metadata": {},
   "source": [
    "# Q6. How does a Python class handle operator overloading?"
   ]
  },
  {
   "cell_type": "code",
   "execution_count": null,
   "id": "399bcb49",
   "metadata": {},
   "outputs": [],
   "source": [
    "Python Classes handle operator overloading by using special methods called Magic methods. these special methods usually \n",
    "begin and end with __ (double underscore)\n",
    "e.g  - + -> __add__()"
   ]
  },
  {
   "cell_type": "markdown",
   "id": "107e44a9",
   "metadata": {},
   "source": [
    "# Q7. When do you consider allowing operator overloading of your classes?"
   ]
  },
  {
   "cell_type": "code",
   "execution_count": null,
   "id": "50c1d9ea",
   "metadata": {},
   "outputs": [],
   "source": [
    "When we want to have different meaning for the same operator accroding to the context we use operator overloading."
   ]
  },
  {
   "cell_type": "markdown",
   "id": "f4032e26",
   "metadata": {},
   "source": [
    "# Q8. What is the most popular form of operator overloading?"
   ]
  },
  {
   "cell_type": "code",
   "execution_count": null,
   "id": "83022945",
   "metadata": {},
   "outputs": [],
   "source": [
    " The most popular form of operator overloading in python is by special methods called Magic methods."
   ]
  },
  {
   "cell_type": "markdown",
   "id": "6e53e2ca",
   "metadata": {},
   "source": [
    "# Q9. What are the two most important concepts to grasp in order to comprehend Python OOP code?"
   ]
  },
  {
   "cell_type": "code",
   "execution_count": null,
   "id": "c7aeec20",
   "metadata": {},
   "outputs": [],
   "source": [
    "Both inheritance and polymorphism are fundamental concepts of object oriented programming. These concepts help us to create\n",
    "code that can be extended and easily maintainable."
   ]
  }
 ],
 "metadata": {
  "kernelspec": {
   "display_name": "Python 3 (ipykernel)",
   "language": "python",
   "name": "python3"
  },
  "language_info": {
   "codemirror_mode": {
    "name": "ipython",
    "version": 3
   },
   "file_extension": ".py",
   "mimetype": "text/x-python",
   "name": "python",
   "nbconvert_exporter": "python",
   "pygments_lexer": "ipython3",
   "version": "3.9.12"
  }
 },
 "nbformat": 4,
 "nbformat_minor": 5
}
