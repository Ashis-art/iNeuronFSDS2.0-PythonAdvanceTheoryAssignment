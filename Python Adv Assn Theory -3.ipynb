{
 "cells": [
  {
   "cell_type": "markdown",
   "id": "3c4aa9d1",
   "metadata": {},
   "source": [
    "# 1. What is the concept of an abstract superclass?"
   ]
  },
  {
   "cell_type": "code",
   "execution_count": null,
   "id": "6e3f7526",
   "metadata": {},
   "outputs": [],
   "source": [
    "An abstract superclass is one way to provide re-usable code. You can extend the abstract class and inherit the code. \n",
    "This is sometimes more convenient than using static methods or object composition to share code."
   ]
  },
  {
   "cell_type": "markdown",
   "id": "29d62cb3",
   "metadata": {},
   "source": [
    "# 2. What happens when a class statement&#39;s top level contains a basic assignment statement?"
   ]
  },
  {
   "cell_type": "code",
   "execution_count": null,
   "id": "c50295d1",
   "metadata": {},
   "outputs": [],
   "source": [
    "When a Class statement's top level contains a basic assignment statement, its usually treated as a class attribute or class \n",
    "level variable, where as assignment statements inside methods are treated as instance attributes or local attributes.\n",
    "When an instance of a class is created a single copy of class attributes is maintained and shared to all instances of class,\n",
    "where as each instance object maintains its own copy of instance variables."
   ]
  },
  {
   "cell_type": "markdown",
   "id": "1247de11",
   "metadata": {},
   "source": [
    "# 3. Why does a class need to manually call a superclass&#39;s __init__ method?"
   ]
  },
  {
   "cell_type": "code",
   "execution_count": null,
   "id": "2fa102f1",
   "metadata": {},
   "outputs": [],
   "source": [
    "If a child class has __init__ method, then it will not inherit the __init__ method of the parent class. in other words \n",
    "the __init__ method of the child class overrides the __init__ method of the parent class. so we have to manually call a parent \n",
    "superclass's __init__ using super() method"
   ]
  },
  {
   "cell_type": "markdown",
   "id": "d69e2ba4",
   "metadata": {},
   "source": [
    "# 4. How can you augment, instead of completely replacing, an inherited method?"
   ]
  },
  {
   "cell_type": "code",
   "execution_count": null,
   "id": "f5a796f0",
   "metadata": {},
   "outputs": [],
   "source": [
    " super() method can be used to augment, instead of completely replacing, an inherited method."
   ]
  },
  {
   "cell_type": "markdown",
   "id": "889851fd",
   "metadata": {},
   "source": [
    "# 5. How is the local scope of a class different from that of a function?"
   ]
  },
  {
   "cell_type": "code",
   "execution_count": null,
   "id": "3f105b28",
   "metadata": {},
   "outputs": [],
   "source": [
    "A Variable which is defined inside a function is local to that function. it is accesible from the point at which it is defined \n",
    "until the end of the function, and exists for as long as the function is existing.\n",
    "Similary a variable inside of a class also has a local variable scope. Variables which are defined in the class body \n",
    "(but outside all methods) are called as class level variables or class attributes. they can be referenced by there bare names \n",
    "within the same scope, but they can also be accessed from outside this scope if we use the attribute access operator (.). on a \n",
    "class or an instance of the class."
   ]
  }
 ],
 "metadata": {
  "kernelspec": {
   "display_name": "Python 3 (ipykernel)",
   "language": "python",
   "name": "python3"
  },
  "language_info": {
   "codemirror_mode": {
    "name": "ipython",
    "version": 3
   },
   "file_extension": ".py",
   "mimetype": "text/x-python",
   "name": "python",
   "nbconvert_exporter": "python",
   "pygments_lexer": "ipython3",
   "version": "3.9.12"
  }
 },
 "nbformat": 4,
 "nbformat_minor": 5
}
